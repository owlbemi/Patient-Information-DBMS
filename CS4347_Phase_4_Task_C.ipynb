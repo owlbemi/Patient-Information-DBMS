{
  "nbformat": 4,
  "nbformat_minor": 0,
  "metadata": {
    "colab": {
      "provenance": [],
      "include_colab_link": true
    },
    "kernelspec": {
      "name": "python3",
      "display_name": "Python 3"
    },
    "language_info": {
      "name": "python"
    }
  },
  "cells": [
    {
      "cell_type": "markdown",
      "metadata": {
        "id": "view-in-github",
        "colab_type": "text"
      },
      "source": [
        "<a href=\"https://colab.research.google.com/github/owlbemi/Patient-Information-DBMS/blob/main/CS4347_Phase_4_Task_C.ipynb\" target=\"_parent\"><img src=\"https://colab.research.google.com/assets/colab-badge.svg\" alt=\"Open In Colab\"/></a>"
      ]
    },
    {
      "cell_type": "markdown",
      "source": [
        "Setup SQL"
      ],
      "metadata": {
        "id": "JQEfKxtrKa1W"
      }
    },
    {
      "cell_type": "code",
      "source": [
        "!pip install pymysql\n",
        "!pip install mysql-connector-python\n",
        "%load_ext sql\n",
        "!apt-get -y install mysql-server"
      ],
      "metadata": {
        "id": "UgpfqbW1KeKN"
      },
      "execution_count": null,
      "outputs": []
    },
    {
      "cell_type": "markdown",
      "source": [
        "Create create.sql"
      ],
      "metadata": {
        "id": "PZV9LFUbJn_m"
      }
    },
    {
      "cell_type": "code",
      "execution_count": null,
      "metadata": {
        "id": "ejVf9yyWJAqp"
      },
      "outputs": [],
      "source": [
        "%sql sqlite:///whateverdatasetweuse.db\n",
        "\n",
        "# OR\n",
        "\n",
        "%%sql CREATE DATABASE DBMS.db"
      ]
    },
    {
      "cell_type": "code",
      "source": [
        "%%sql CREATE TABLE Insurance(\n",
        "    InsuranceCode int NOT NULL,\n",
        "    InsuranceName varchar(255),\n",
        "    PRIMARY KEY (InsuranceCode)\n",
        ");"
      ],
      "metadata": {
        "id": "_VJDIovQT35z"
      },
      "execution_count": null,
      "outputs": []
    },
    {
      "cell_type": "code",
      "source": [
        "%%sql CREATE TABLE Patient(\n",
        "    PatientSsn int NOT NULL,\n",
        "    Sex varchar(255) NOT NULL,\n",
        "    Name varchar(255) NOT NULL,\n",
        "    DOB int,\n",
        "    PhoneNumber int,\n",
        "    InsuranceCode int NOT NULL,\n",
        "    AddressId int,\n",
        "    PRIMARY KEY (PatientSsn),\n",
        "    FOREIGN KEY (InsuranceCode) REFERENCES Insurance(InsuranceCode)\n",
        ");"
      ],
      "metadata": {
        "id": "EIuqiKcFJKST"
      },
      "execution_count": null,
      "outputs": []
    },
    {
      "cell_type": "code",
      "source": [
        "%%sql CREATE TABLE MedicalHistory(\n",
        "    ICD int NOT NULL,\n",
        "    CPT int NOT NULL,\n",
        "    Date int,\n",
        "    PRIMARY KEY (ICD)\n",
        ");"
      ],
      "metadata": {
        "id": "HuyttMHPRglO"
      },
      "execution_count": null,
      "outputs": []
    },
    {
      "cell_type": "code",
      "source": [
        "%%sql CREATE TABLE MedicalHistoryOfPatient(\n",
        "    ICD int NOT NULL,\n",
        "    PatientSsn int NOT NULL,\n",
        "    PRIMARY KEY (ICD, PatientSsn),\n",
        "    FOREIGN KEY (ICD) REFERENCES MedicalHistory(ICD),\n",
        "    FOREIGN KEY (PatientSsn) REFERENCES Patient(PatientSsn)\n",
        ");"
      ],
      "metadata": {
        "id": "ERMZBqwGSQc6"
      },
      "execution_count": null,
      "outputs": []
    },
    {
      "cell_type": "code",
      "source": [
        "%%sql CREATE TABLE Address(\n",
        "    AddressId int NOT NULL,\n",
        "    ZIPCode int,\n",
        "    Street varchar(255),\n",
        "    County varchar(255),\n",
        "    City varchar(255),\n",
        "    State varchar(255),\n",
        "    PRIMARY KEY (AddressId)\n",
        ");"
      ],
      "metadata": {
        "id": "EeCMRUJqSpDl"
      },
      "execution_count": null,
      "outputs": []
    },
    {
      "cell_type": "code",
      "source": [
        "%%sql CREATE TABLE Doctor(\n",
        "\tEmployeeId int NOT NULL,\n",
        "\tSpecialtyDepartment varchar(255),\n",
        "\tName varchar(255) NOT NULL,\n",
        "\tAddressId int NOT NULL,\n",
        "\tPhoneNumber int,\n",
        "\tPRIMARY KEY (EmployeeId),\n",
        "\tFOREIGN KEY (AddressId) REFERENCES Address(AddressId)\n",
        ");"
      ],
      "metadata": {
        "id": "6iNSy5nEC9dl"
      },
      "execution_count": null,
      "outputs": []
    },
    {
      "cell_type": "code",
      "source": [
        "%%sql CREATE TABLE Treatment(\n",
        "    PatientSsn int NOT NULL,\n",
        "    EmployeeId int NOT NULL,\n",
        "    PRIMARY KEY (PatientSsn, EmployeeId),\n",
        "    FOREIGN KEY (PatientSsn) REFERENCES Patient(PatientSsn),\n",
        "    FOREIGN KEY (EmployeeId) REFERENCES Doctor(EmployeeId)\n",
        ");"
      ],
      "metadata": {
        "id": "4FwPShQ5VSSC"
      },
      "execution_count": null,
      "outputs": []
    },
    {
      "cell_type": "code",
      "source": [
        "%%sql CREATE TABLE AppointmentSchedule(\n",
        "\tPatientSsn int NOT NULL,\n",
        "\tAppointmentId int NOT NULL,\n",
        "  PRIMARY KEY (AppointmentId, PatientSsn),\n",
        "\tFOREIGN KEY (PatientSsn) REFERENCES Patient(PatientSsn),\n",
        "\tFOREIGN KEY (AppointmentId) REFERENCES Appointment(AppointmentId)\n",
        ");"
      ],
      "metadata": {
        "id": "ZIhQWmnWDmP9"
      },
      "execution_count": null,
      "outputs": []
    },
    {
      "cell_type": "code",
      "source": [
        "%%sql CREATE TABLE Appointment(\n",
        "\tAppointmentId int NOT NULL,\n",
        "\tDate int NOT NULL,\n",
        "\tTime int NOT NULL,\n",
        "\tEmployeeID int NOT NULL,\n",
        "\tPRIMARY KEY\t(AppointmentId),\n",
        "\tFOREIGN KEY (EmployeeID) REFERENCES Doctor(EmployeeID)\n",
        ");"
      ],
      "metadata": {
        "id": "Eh81CzDNDrjD"
      },
      "execution_count": null,
      "outputs": []
    },
    {
      "cell_type": "markdown",
      "source": [
        "Create load.sql"
      ],
      "metadata": {
        "id": "oPKa4UKiCjJq"
      }
    },
    {
      "cell_type": "code",
      "source": [
        "%%sql\n",
        "\n",
        "SET foreign_key_checks = 0;\n",
        "\n",
        "LOAD DATA LOCAL INFILE '/whatever/path/patients.csv'\n",
        "INTO TABLE Patient\n",
        "FIELDS TERMINATED BY ','\n",
        "ENCLOSED BY '\"'\n",
        "LINES TERMINATED BY '\\n'\n",
        "IGNORE 1 LINES;\n",
        "\n",
        "LOAD DATA LOCAL INFILE '/whatever/path/insurance.csv'\n",
        "INTO TABLE Insurance\n",
        "FIELDS TERMINATED BY ','\n",
        "ENCLOSED BY '\"'\n",
        "LINES TERMINATED BY '\\n'\n",
        "IGNORE 1 LINES;\n",
        "\n",
        "LOAD DATA LOCAL INFILE '/whatever/path/address.csv'\n",
        "INTO TABLE Address\n",
        "FIELDS TERMINATED BY ','\n",
        "ENCLOSED BY '\"'\n",
        "LINES TERMINATED BY '\\n'\n",
        "IGNORE 1 LINES;\n",
        "\n",
        "LOAD DATA LOCAL INFILE '/whatever/path/medicalhistoryofpatient.csv'\n",
        "INTO TABLE MedicalHistoryOfPatient\n",
        "FIELDS TERMINATED BY ','\n",
        "ENCLOSED BY '\"'\n",
        "LINES TERMINATED BY '\\n'\n",
        "IGNORE 1 LINES;\n",
        "\n",
        "LOAD DATA LOCAL INFILE '/whatever/path/appointment.csv'\n",
        "INTO TABLE Appointment\n",
        "FIELDS TERMINATED BY ','\n",
        "ENCLOSED BY '\"'\n",
        "LINES TERMINATED BY '\\n'\n",
        "IGNORE 1 LINES;\n",
        "\n",
        "LOAD DATA LOCAL INFILE '/whatever/path/appointmentschedule.csv'\n",
        "INTO TABLE AppointmentSchedule\n",
        "FIELDS TERMINATED BY ','\n",
        "ENCLOSED BY '\"'\n",
        "LINES TERMINATED BY '\\n'\n",
        "IGNORE 1 LINES;\n",
        "\n",
        "LOAD DATA LOCAL INFILE '/whatever/path/treatment.csv'\n",
        "INTO TABLE Treatment\n",
        "FIELDS TERMINATED BY ','\n",
        "ENCLOSED BY '\"'\n",
        "LINES TERMINATED BY '\\n'\n",
        "IGNORE 1 LINES;\n",
        "\n",
        "LOAD DATA LOCAL INFILE '/whatever/path/doctor.csv'\n",
        "INTO TABLE Doctor\n",
        "FIELDS TERMINATED BY ','\n",
        "ENCLOSED BY '\"'\n",
        "LINES TERMINATED BY '\\n'\n",
        "IGNORE 1 LINES;\n",
        "\n",
        "LOAD DATA LOCAL INFILE '/whatever/path/medicalhistory.csv'\n",
        "INTO TABLE MedicalHistory\n",
        "FIELDS TERMINATED BY ','\n",
        "ENCLOSED BY '\"'\n",
        "LINES TERMINATED BY '\\n'\n",
        "IGNORE 1 LINES;\n",
        "\n",
        "SET foreign_key_checks = 1;"
      ],
      "metadata": {
        "id": "HcbXrIfAWzgg"
      },
      "execution_count": null,
      "outputs": []
    }
  ]
}